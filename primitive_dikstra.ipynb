{
 "cells": [
  {
   "cell_type": "code",
   "execution_count": 2,
   "metadata": {
    "collapsed": true,
    "ExecuteTime": {
     "start_time": "2023-05-28T15:19:52.117582Z",
     "end_time": "2023-05-28T15:19:52.218583Z"
    }
   },
   "outputs": [],
   "source": [
    "import cv2\n",
    "import numpy as np\n",
    "import heapq\n"
   ]
  },
  {
   "cell_type": "code",
   "execution_count": 3,
   "outputs": [],
   "source": [
    "image = cv2.imread(\"whiteOnBlack.png\")\n",
    "gray = cv2.cvtColor(image, cv2.COLOR_BGR2GRAY)\n"
   ],
   "metadata": {
    "collapsed": false,
    "ExecuteTime": {
     "start_time": "2023-05-28T15:19:52.459439Z",
     "end_time": "2023-05-28T15:19:52.485441Z"
    }
   }
  },
  {
   "cell_type": "code",
   "execution_count": 4,
   "outputs": [],
   "source": [
    "rows, cols = gray.shape[:2]\n",
    "graph = np.zeros((rows, cols), dtype=np.float32)\n",
    "\n",
    "for i in range(rows):\n",
    "    for j in range(cols):\n",
    "        if i > 0:\n",
    "            graph[i, j] += abs(int(gray[i, j]) - int(gray[i - 1, j]))\n",
    "        if i < rows - 1:\n",
    "            graph[i, j] += abs(int(gray[i, j]) - int(gray[i + 1, j]))\n",
    "        if j > 0:\n",
    "            graph[i, j] += abs(int(gray[i, j]) - int(gray[i, j - 1]))\n",
    "        if j < cols - 1:\n",
    "            graph[i, j] += abs(int(gray[i, j]) - int(gray[i, j + 1]))\n"
   ],
   "metadata": {
    "collapsed": false,
    "ExecuteTime": {
     "start_time": "2023-05-28T15:19:52.841333Z",
     "end_time": "2023-05-28T15:20:03.398334Z"
    }
   }
  },
  {
   "cell_type": "code",
   "execution_count": 5,
   "outputs": [],
   "source": [
    "def find_fastest_path(graph, start, end):\n",
    "    rows, cols = graph.shape[:2]\n",
    "    heap = [(0, start)]\n",
    "    visited = set()\n",
    "    prev = {}\n",
    "\n",
    "    while heap:\n",
    "        cost, node = heapq.heappop(heap)\n",
    "\n",
    "        if node == end:\n",
    "            break\n",
    "\n",
    "        if node in visited:\n",
    "            continue\n",
    "\n",
    "        visited.add(node)\n",
    "\n",
    "        row, col = node\n",
    "        neighbors = []\n",
    "\n",
    "        if row > 0:\n",
    "            neighbors.append((row - 1, col))\n",
    "        if row < rows - 1:\n",
    "            neighbors.append((row + 1, col))\n",
    "        if col > 0:\n",
    "            neighbors.append((row, col - 1))\n",
    "        if col < cols - 1:\n",
    "            neighbors.append((row, col + 1))\n",
    "\n",
    "        for neighbor in neighbors:\n",
    "            nrow, ncol = neighbor\n",
    "            if neighbor not in visited:\n",
    "                prev[neighbor] = node\n",
    "                heapq.heappush(heap, (cost + graph[nrow, ncol], neighbor))\n",
    "\n",
    "    path = []\n",
    "    current = end\n",
    "\n",
    "    while current != start:\n",
    "        path.append(current)\n",
    "        current = prev[current]\n",
    "\n",
    "    path.append(start)\n",
    "\n",
    "    return cost, path\n",
    "\n",
    "start_point = (300, 10)  # Replace with the coordinates of point A\n",
    "end_point = (100, 1200)  # Replace with the coordinates of point B\n",
    "\n",
    "fastest_path_cost, fastest_path = find_fastest_path(graph, start_point, end_point)\n",
    "\n",
    "# Paint the fastest path on the image\n",
    "for point in fastest_path:\n",
    "    row, col = point\n",
    "    image[row, col] = [0, 0, 255]  # Set the color of the path to blue\n",
    "\n",
    "cv2.imshow(\"Fastest Path\", image)\n",
    "cv2.waitKey(0)\n",
    "cv2.destroyAllWindows()\n"
   ],
   "metadata": {
    "collapsed": false,
    "ExecuteTime": {
     "start_time": "2023-05-28T15:20:03.403335Z",
     "end_time": "2023-05-28T16:17:05.965420Z"
    }
   }
  },
  {
   "cell_type": "code",
   "execution_count": 4,
   "outputs": [],
   "source": [],
   "metadata": {
    "collapsed": false,
    "ExecuteTime": {
     "start_time": "2023-05-28T15:17:10.130113Z",
     "end_time": "2023-05-28T15:17:10.143114Z"
    }
   }
  },
  {
   "cell_type": "code",
   "execution_count": 4,
   "outputs": [],
   "source": [],
   "metadata": {
    "collapsed": false,
    "ExecuteTime": {
     "start_time": "2023-05-28T15:17:10.144113Z",
     "end_time": "2023-05-28T15:17:10.170113Z"
    }
   }
  },
  {
   "cell_type": "code",
   "execution_count": null,
   "outputs": [],
   "source": [],
   "metadata": {
    "collapsed": false
   }
  }
 ],
 "metadata": {
  "kernelspec": {
   "display_name": "Python 3",
   "language": "python",
   "name": "python3"
  },
  "language_info": {
   "codemirror_mode": {
    "name": "ipython",
    "version": 2
   },
   "file_extension": ".py",
   "mimetype": "text/x-python",
   "name": "python",
   "nbconvert_exporter": "python",
   "pygments_lexer": "ipython2",
   "version": "2.7.6"
  }
 },
 "nbformat": 4,
 "nbformat_minor": 0
}
